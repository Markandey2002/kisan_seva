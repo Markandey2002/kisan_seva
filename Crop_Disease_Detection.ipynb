{
  "nbformat": 4,
  "nbformat_minor": 0,
  "metadata": {
    "colab": {
      "provenance": [],
      "gpuType": "T4"
    },
    "kernelspec": {
      "name": "python3",
      "display_name": "Python 3"
    },
    "language_info": {
      "name": "python"
    },
    "accelerator": "GPU"
  },
  "cells": [
    {
      "cell_type": "code",
      "source": [
        "!pip install sklearn"
      ],
      "metadata": {
        "colab": {
          "base_uri": "https://localhost:8080/"
        },
        "id": "yZ5crqH3bLk-",
        "outputId": "6809e25d-be46-4449-f191-55078a99f3e9"
      },
      "execution_count": null,
      "outputs": [
        {
          "output_type": "stream",
          "name": "stdout",
          "text": [
            "Collecting sklearn\n",
            "  Downloading sklearn-0.0.post9.tar.gz (3.6 kB)\n",
            "  Preparing metadata (setup.py) ... \u001b[?25l\u001b[?25hdone\n",
            "Building wheels for collected packages: sklearn\n",
            "  Building wheel for sklearn (setup.py) ... \u001b[?25l\u001b[?25hdone\n",
            "  Created wheel for sklearn: filename=sklearn-0.0.post9-py3-none-any.whl size=2952 sha256=dc82e3ea3467a7efa05252ff7340bd397f77dba5e57d970ee942101e64866ebb\n",
            "  Stored in directory: /root/.cache/pip/wheels/33/a3/d2/092b519e9522b4c91608b7dcec0dd9051fa1bff4c45f4502d1\n",
            "Successfully built sklearn\n",
            "Installing collected packages: sklearn\n",
            "Successfully installed sklearn-0.0.post9\n"
          ]
        }
      ]
    },
    {
      "cell_type": "code",
      "execution_count": null,
      "metadata": {
        "id": "vboFs_aQawzW"
      },
      "outputs": [],
      "source": [
        "import numpy as np\n",
        "import tensorflow as tf"
      ]
    },
    {
      "cell_type": "code",
      "source": [
        "!pip install opendatasets"
      ],
      "metadata": {
        "colab": {
          "base_uri": "https://localhost:8080/"
        },
        "id": "-QZPP8CAcP32",
        "outputId": "68fc9d78-66c7-40a0-c516-0b7dafaf985f"
      },
      "execution_count": null,
      "outputs": [
        {
          "output_type": "stream",
          "name": "stdout",
          "text": [
            "Collecting opendatasets\n",
            "  Downloading opendatasets-0.1.22-py3-none-any.whl (15 kB)\n",
            "Requirement already satisfied: tqdm in /usr/local/lib/python3.10/dist-packages (from opendatasets) (4.66.1)\n",
            "Requirement already satisfied: kaggle in /usr/local/lib/python3.10/dist-packages (from opendatasets) (1.5.16)\n",
            "Requirement already satisfied: click in /usr/local/lib/python3.10/dist-packages (from opendatasets) (8.1.7)\n",
            "Requirement already satisfied: six>=1.10 in /usr/local/lib/python3.10/dist-packages (from kaggle->opendatasets) (1.16.0)\n",
            "Requirement already satisfied: certifi in /usr/local/lib/python3.10/dist-packages (from kaggle->opendatasets) (2023.7.22)\n",
            "Requirement already satisfied: python-dateutil in /usr/local/lib/python3.10/dist-packages (from kaggle->opendatasets) (2.8.2)\n",
            "Requirement already satisfied: requests in /usr/local/lib/python3.10/dist-packages (from kaggle->opendatasets) (2.31.0)\n",
            "Requirement already satisfied: python-slugify in /usr/local/lib/python3.10/dist-packages (from kaggle->opendatasets) (8.0.1)\n",
            "Requirement already satisfied: urllib3 in /usr/local/lib/python3.10/dist-packages (from kaggle->opendatasets) (2.0.4)\n",
            "Requirement already satisfied: bleach in /usr/local/lib/python3.10/dist-packages (from kaggle->opendatasets) (6.0.0)\n",
            "Requirement already satisfied: webencodings in /usr/local/lib/python3.10/dist-packages (from bleach->kaggle->opendatasets) (0.5.1)\n",
            "Requirement already satisfied: text-unidecode>=1.3 in /usr/local/lib/python3.10/dist-packages (from python-slugify->kaggle->opendatasets) (1.3)\n",
            "Requirement already satisfied: charset-normalizer<4,>=2 in /usr/local/lib/python3.10/dist-packages (from requests->kaggle->opendatasets) (3.2.0)\n",
            "Requirement already satisfied: idna<4,>=2.5 in /usr/local/lib/python3.10/dist-packages (from requests->kaggle->opendatasets) (3.4)\n",
            "Installing collected packages: opendatasets\n",
            "Successfully installed opendatasets-0.1.22\n"
          ]
        }
      ]
    },
    {
      "cell_type": "markdown",
      "source": [
        "\n",
        "\n",
        "\n",
        "\n",
        "\n",
        "\n",
        "\n",
        "Loading the dataset\n"
      ],
      "metadata": {
        "id": "rYLS3cNDbflK"
      }
    },
    {
      "cell_type": "code",
      "source": [
        "import opendatasets as od\n",
        "\n",
        "od.download(\"https://www.kaggle.com/datasets/vipoooool/new-plant-diseases-dataset\")"
      ],
      "metadata": {
        "colab": {
          "base_uri": "https://localhost:8080/"
        },
        "id": "OgLbK2rea032",
        "outputId": "346ccbb5-abcf-44b1-9840-423c52c9bc48"
      },
      "execution_count": null,
      "outputs": [
        {
          "output_type": "stream",
          "name": "stdout",
          "text": [
            "Please provide your Kaggle credentials to download this dataset. Learn more: http://bit.ly/kaggle-creds\n",
            "Your Kaggle username: yashgautam321\n",
            "Your Kaggle Key: ··········\n",
            "Downloading new-plant-diseases-dataset.zip to ./new-plant-diseases-dataset\n"
          ]
        },
        {
          "output_type": "stream",
          "name": "stderr",
          "text": [
            "100%|██████████| 2.70G/2.70G [00:27<00:00, 105MB/s]\n"
          ]
        },
        {
          "output_type": "stream",
          "name": "stdout",
          "text": [
            "\n"
          ]
        }
      ]
    },
    {
      "cell_type": "code",
      "source": [
        "train = \"/content/new-plant-diseases-dataset/new plant diseases dataset(augmented)/New Plant Diseases Dataset(Augmented)/train\"\n",
        "validation_dir = \"/content/new-plant-diseases-dataset/new plant diseases dataset(augmented)/New Plant Diseases Dataset(Augmented)/valid\""
      ],
      "metadata": {
        "id": "xShbVbHBcYNP"
      },
      "execution_count": null,
      "outputs": []
    },
    {
      "cell_type": "code",
      "source": [
        "import glob\n",
        "import os\n",
        "def get_files(directory):\n",
        "  if not os.path.exists(directory):\n",
        "    return 0\n",
        "  count=0\n",
        "  for current_path,dirs,files in os.walk(directory):\n",
        "    for dr in dirs:\n",
        "      count+= len(glob.glob(os.path.join(current_path,dr+\"/*\")))\n",
        "  return count"
      ],
      "metadata": {
        "id": "mQkBH9YLiBWn"
      },
      "execution_count": null,
      "outputs": []
    },
    {
      "cell_type": "code",
      "source": [
        "train_samples =get_files(train)\n",
        "num_classes=len(glob.glob(train+\"/*\"))\n",
        "test_samples=get_files(validation_dir)\n",
        "print(num_classes,\"Classes\")\n",
        "print(train_samples,\"Train images\")\n",
        "print(test_samples,\"Test images\")"
      ],
      "metadata": {
        "colab": {
          "base_uri": "https://localhost:8080/"
        },
        "id": "R4eiQkV1iIej",
        "outputId": "470a6a1d-8584-4610-add1-c222a3a6c84d"
      },
      "execution_count": null,
      "outputs": [
        {
          "output_type": "stream",
          "name": "stdout",
          "text": [
            "38 Classes\n",
            "70295 Train images\n",
            "17572 Test images\n"
          ]
        }
      ]
    },
    {
      "cell_type": "code",
      "source": [
        "import tensorflow as tf\n",
        "from tensorflow import keras"
      ],
      "metadata": {
        "id": "5-GIacgWiKlJ"
      },
      "execution_count": null,
      "outputs": []
    },
    {
      "cell_type": "code",
      "source": [
        "from keras.preprocessing.image import ImageDataGenerator\n",
        "train_datagen=ImageDataGenerator(rescale=1./255,\n",
        "                                   shear_range=0.2,\n",
        "                                   zoom_range=0.2,\n",
        "                                   horizontal_flip=True)\n",
        "test_datagen=ImageDataGenerator(rescale=1./255)\n",
        "img_width,img_height =224,224\n",
        "input_shape=(img_width,img_height,3)\n",
        "batch_size =64\n",
        "train_generator =train_datagen.flow_from_directory(train,\n",
        "                                target_size=(img_width,img_height),batch_size=batch_size)\n",
        "test_generator=test_datagen.flow_from_directory(validation_dir,shuffle=True,target_size=(img_width,img_height),batch_size=batch_size)"
      ],
      "metadata": {
        "colab": {
          "base_uri": "https://localhost:8080/"
        },
        "id": "uhhGjjNfi2Dh",
        "outputId": "88e7ef2b-319d-43ac-c601-7e3983adc28c"
      },
      "execution_count": null,
      "outputs": [
        {
          "output_type": "stream",
          "name": "stdout",
          "text": [
            "Found 70295 images belonging to 38 classes.\n",
            "Found 17572 images belonging to 38 classes.\n"
          ]
        }
      ]
    },
    {
      "cell_type": "code",
      "source": [
        "from tensorflow import keras\n",
        "from keras import layers\n",
        "model = keras.Sequential([\n",
        "    layers.Input((224, 224, 3)),\n",
        "\n",
        "    layers.Conv2D(16, 3, activation=\"relu\"),\n",
        "    layers.BatchNormalization(), # Regularization\n",
        "    layers.MaxPooling2D(),\n",
        "\n",
        "    layers.Conv2D(32, 3, activation=\"relu\"),\n",
        "    layers.BatchNormalization(),\n",
        "    layers.MaxPooling2D(),\n",
        "\n",
        "    layers.Conv2D(64, 3, activation=\"relu\"),\n",
        "    layers.BatchNormalization(),\n",
        "    layers.MaxPooling2D(),\n",
        "\n",
        "    layers.Flatten(),\n",
        "\n",
        "    layers.Dense(64, activation=\"relu\"),\n",
        "    layers.BatchNormalization(),\n",
        "    layers.Dropout(0.2), # Regularization\n",
        "    layers.Dense(38, activation=\"softmax\"),\n",
        "])\n",
        "model.compile(optimizer='adam', loss='categorical_crossentropy', metrics=['accuracy'])"
      ],
      "metadata": {
        "id": "Ann91zaei-Kh"
      },
      "execution_count": null,
      "outputs": []
    },
    {
      "cell_type": "code",
      "source": [
        "from tensorflow.keras.callbacks import EarlyStopping\n",
        "early_stopping_callback = EarlyStopping(monitor = 'val_loss', patience = 10, mode = 'min', restore_best_weights = True)\n",
        "history = model.fit(train_generator,validation_data=test_generator,epochs=2,shuffle=True)"
      ],
      "metadata": {
        "colab": {
          "base_uri": "https://localhost:8080/"
        },
        "id": "GpYRLazojzIF",
        "outputId": "77707938-b925-40aa-902d-b94d5cfcb6ae"
      },
      "execution_count": null,
      "outputs": [
        {
          "output_type": "stream",
          "name": "stdout",
          "text": [
            "Epoch 1/2\n",
            "1099/1099 [==============================] - 6095s 6s/step - loss: 0.5844 - accuracy: 0.8339 - val_loss: 1.2874 - val_accuracy: 0.6481\n",
            "Epoch 2/2\n",
            "1099/1099 [==============================] - 6115s 6s/step - loss: 0.2969 - accuracy: 0.9103 - val_loss: 0.5511 - val_accuracy: 0.8456\n"
          ]
        }
      ]
    },
    {
      "cell_type": "code",
      "source": [
        "predictions = model.predict(test_generator)\n",
        "predicted_labels = np.argmax(predictions, axis=1)\n",
        "true_labels = test_generator.classes\n",
        "from sklearn.metrics import classification_report\n",
        "\n",
        "report = classification_report(true_labels, predicted_labels, target_names=test_generator.class_indices.keys())\n",
        "print(report)"
      ],
      "metadata": {
        "colab": {
          "base_uri": "https://localhost:8080/"
        },
        "id": "SYaLq9Omj2iY",
        "outputId": "088d7623-3cab-41d3-9125-6884afec9a8a"
      },
      "execution_count": null,
      "outputs": [
        {
          "output_type": "stream",
          "name": "stdout",
          "text": [
            "275/275 [==============================] - 404s 1s/step\n",
            "                                                    precision    recall  f1-score   support\n",
            "\n",
            "                                Apple___Apple_scab       0.02      0.02      0.02       504\n",
            "                                 Apple___Black_rot       0.03      0.06      0.04       497\n",
            "                          Apple___Cedar_apple_rust       0.03      0.03      0.03       440\n",
            "                                   Apple___healthy       0.03      0.03      0.03       502\n",
            "                               Blueberry___healthy       0.01      0.01      0.01       454\n",
            "          Cherry_(including_sour)___Powdery_mildew       0.02      0.02      0.02       421\n",
            "                 Cherry_(including_sour)___healthy       0.03      0.03      0.03       456\n",
            "Corn_(maize)___Cercospora_leaf_spot Gray_leaf_spot       0.02      0.02      0.02       410\n",
            "                       Corn_(maize)___Common_rust_       0.03      0.03      0.03       477\n",
            "               Corn_(maize)___Northern_Leaf_Blight       0.03      0.03      0.03       477\n",
            "                            Corn_(maize)___healthy       0.02      0.03      0.03       465\n",
            "                                 Grape___Black_rot       0.04      0.03      0.03       472\n",
            "                      Grape___Esca_(Black_Measles)       0.04      0.05      0.04       480\n",
            "        Grape___Leaf_blight_(Isariopsis_Leaf_Spot)       0.02      0.03      0.03       430\n",
            "                                   Grape___healthy       0.03      0.02      0.02       423\n",
            "          Orange___Haunglongbing_(Citrus_greening)       0.01      0.01      0.01       503\n",
            "                            Peach___Bacterial_spot       0.02      0.02      0.02       459\n",
            "                                   Peach___healthy       0.03      0.03      0.03       432\n",
            "                     Pepper,_bell___Bacterial_spot       0.04      0.03      0.03       478\n",
            "                            Pepper,_bell___healthy       0.01      0.02      0.02       497\n",
            "                             Potato___Early_blight       0.02      0.02      0.02       485\n",
            "                              Potato___Late_blight       0.02      0.01      0.01       485\n",
            "                                  Potato___healthy       0.03      0.03      0.03       456\n",
            "                               Raspberry___healthy       0.03      0.04      0.03       445\n",
            "                                 Soybean___healthy       0.03      0.02      0.03       505\n",
            "                           Squash___Powdery_mildew       0.02      0.02      0.02       434\n",
            "                          Strawberry___Leaf_scorch       0.02      0.02      0.02       444\n",
            "                              Strawberry___healthy       0.03      0.03      0.03       456\n",
            "                           Tomato___Bacterial_spot       0.03      0.02      0.02       425\n",
            "                             Tomato___Early_blight       0.02      0.02      0.02       480\n",
            "                              Tomato___Late_blight       0.03      0.03      0.03       463\n",
            "                                Tomato___Leaf_Mold       0.04      0.04      0.04       470\n",
            "                       Tomato___Septoria_leaf_spot       0.03      0.03      0.03       436\n",
            "     Tomato___Spider_mites Two-spotted_spider_mite       0.02      0.01      0.01       435\n",
            "                              Tomato___Target_Spot       0.01      0.00      0.00       457\n",
            "            Tomato___Tomato_Yellow_Leaf_Curl_Virus       0.03      0.03      0.03       490\n",
            "                      Tomato___Tomato_mosaic_virus       0.03      0.03      0.03       448\n",
            "                                  Tomato___healthy       0.03      0.07      0.04       481\n",
            "\n",
            "                                          accuracy                           0.03     17572\n",
            "                                         macro avg       0.03      0.03      0.03     17572\n",
            "                                      weighted avg       0.03      0.03      0.03     17572\n",
            "\n"
          ]
        }
      ]
    },
    {
      "cell_type": "code",
      "source": [
        "model.save('CNN_model.h5')"
      ],
      "metadata": {
        "colab": {
          "base_uri": "https://localhost:8080/"
        },
        "id": "oTAxDpmBuEr6",
        "outputId": "5ab71367-9b28-4b76-e1bd-6dfe3fe82490"
      },
      "execution_count": null,
      "outputs": [
        {
          "output_type": "stream",
          "name": "stderr",
          "text": [
            "/usr/local/lib/python3.10/dist-packages/keras/src/engine/training.py:3000: UserWarning: You are saving your model as an HDF5 file via `model.save()`. This file format is considered legacy. We recommend using instead the native Keras format, e.g. `model.save('my_model.keras')`.\n",
            "  saving_api.save_model(\n"
          ]
        }
      ]
    },
    {
      "cell_type": "markdown",
      "source": [
        "Testing"
      ],
      "metadata": {
        "id": "b05Nk2w4uS1K"
      }
    },
    {
      "cell_type": "code",
      "source": [
        "img='/content/new-plant-diseases-dataset/New Plant Diseases Dataset(Augmented)/New Plant Diseases Dataset(Augmented)/train/Tomato___Leaf_Mold/0160c3b5-d89e-40e5-a313-49ae1524040a___Crnl_L.Mold 6823_180deg.JPG'"
      ],
      "metadata": {
        "id": "Lw-iCXHsuGCb"
      },
      "execution_count": null,
      "outputs": []
    },
    {
      "cell_type": "code",
      "source": [
        "import cv2\n",
        "def predict_disease(test_image):\n",
        "  img = cv2.imread(test_image)\n",
        "  img = img / 255.0\n",
        "  img = cv2.resize(img, (224, 224))\n",
        "  img = img.reshape(1,224,224,3)\n",
        "  prediction = model.predict(img)\n",
        "  pred_class = np.argmax(prediction, axis = -1)\n",
        "  return pred_class"
      ],
      "metadata": {
        "id": "iowS0GMQuUc6"
      },
      "execution_count": null,
      "outputs": []
    },
    {
      "cell_type": "code",
      "source": [
        "pred = predict_disease(img)"
      ],
      "metadata": {
        "colab": {
          "base_uri": "https://localhost:8080/"
        },
        "id": "2HjHpTZ6uXFk",
        "outputId": "ae3f864f-b03f-491e-f239-255f2facf842"
      },
      "execution_count": null,
      "outputs": [
        {
          "output_type": "stream",
          "name": "stdout",
          "text": [
            "1/1 [==============================] - 1s 689ms/step\n"
          ]
        }
      ]
    },
    {
      "cell_type": "code",
      "source": [
        "d = pred[0]"
      ],
      "metadata": {
        "id": "OKdVsjibuZYi"
      },
      "execution_count": null,
      "outputs": []
    },
    {
      "cell_type": "code",
      "source": [
        "d"
      ],
      "metadata": {
        "colab": {
          "base_uri": "https://localhost:8080/"
        },
        "id": "kdDMuzKBubsX",
        "outputId": "dd96910a-554a-42b3-e5de-47edf63b3a96"
      },
      "execution_count": null,
      "outputs": [
        {
          "output_type": "execute_result",
          "data": {
            "text/plain": [
              "31"
            ]
          },
          "metadata": {},
          "execution_count": 25
        }
      ]
    },
    {
      "cell_type": "code",
      "source": [
        "Plant_disease = [  'Apple___Apple_scab', 'Apple___Black_rot', 'Apple___Cedar_apple_rust', 'Apple___healthy', 'Blueberry___healthy',\n",
        "                 'Cherry_(including_sour)___Powdery_mildew', 'Cherry_(including_sour)___healthy', 'Corn_(maize)___Cercospora_leaf_spot Gray_leaf_spot',\n",
        "                   'Corn_(maize)___Common_rust_', 'Corn_(maize)___Northern_Leaf_Blight', 'Corn_(maize)___healthy', 'Grape___Black_rot',\n",
        "                   'Grape___Esca_(Black_Measles)', 'Grape___Leaf_blight_(Isariopsis_Leaf_Spot)', 'Grape___healthy', 'Orange___Haunglongbing_(Citrus_greening)',\n",
        "                   'Peach___Bacterial_spot', 'Peach___healthy', 'Pepper,_bell___Bacterial_spot', 'Pepper,_bell___healthy', 'Potato___Early_blight',\n",
        "                   'Potato___Late_blight', 'Potato___healthy', 'Raspberry___healthy', 'Soybean___healthy', 'Squash___Powdery_mildew',\n",
        "                   'Strawberry___Leaf_scorch', 'Strawberry___healthy', 'Tomato___Bacterial_spot', 'Tomato___Early_blight', 'Tomato___Late_blight',\n",
        "                   'Tomato___Leaf_Mold', 'Tomato___Septoria_leaf_spot', 'Tomato___Spider_mites Two-spotted_spider_mite', 'Tomato___Target_Spot',\n",
        "                   'Tomato___Tomato_Yellow_Leaf_Curl_Virus', 'Tomato___Tomato_mosaic_virus',  'Tomato___healthy']"
      ],
      "metadata": {
        "id": "DInLd2L4ueQY"
      },
      "execution_count": null,
      "outputs": []
    },
    {
      "cell_type": "code",
      "source": [
        "print(len(Plant_disease))\n",
        "# Plant_disease[d]"
      ],
      "metadata": {
        "colab": {
          "base_uri": "https://localhost:8080/"
        },
        "id": "wVQRBR7lug5V",
        "outputId": "24b6ddf9-3f03-4abf-a263-fdf1bc15520e"
      },
      "execution_count": null,
      "outputs": [
        {
          "output_type": "stream",
          "name": "stdout",
          "text": [
            "38\n"
          ]
        }
      ]
    },
    {
      "cell_type": "code",
      "source": [
        "from IPython.display import Image\n",
        "\n",
        "# # Upload your image file to Colab\n",
        "# uploaded = files.upload()\n",
        "\n",
        "# # Get the file name\n",
        "# file_name = next(iter(uploaded))\n",
        "\n",
        "# # Display the image\n",
        "Image(img)"
      ],
      "metadata": {
        "colab": {
          "base_uri": "https://localhost:8080/",
          "height": 273
        },
        "id": "aK8UVCVUujR0",
        "outputId": "8911026e-3ff2-4b7d-ba49-c3b4e7493af4"
      },
      "execution_count": null,
      "outputs": [
        {
          "output_type": "execute_result",
          "data": {
            "image/jpeg": "[encoded data removed]",
            "text/plain": [
              "<IPython.core.display.Image object>"
            ]
          },
          "metadata": {},
          "execution_count": 28
        }
      ]
    },
    {
      "cell_type": "code",
      "source": [],
      "metadata": {
        "id": "xGsy5TuwuneH"
      },
      "execution_count": null,
      "outputs": []
    }
  ]
}